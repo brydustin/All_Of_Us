{
 "cells": [
  {
   "cell_type": "markdown",
   "id": "394f56ab",
   "metadata": {},
   "source": [
    "#### Below is a notebook that takes excel files and converts them to the standard format"
   ]
  },
  {
   "cell_type": "code",
   "execution_count": 1,
   "id": "3ddc2d6d",
   "metadata": {},
   "outputs": [
    {
     "name": "stdout",
     "output_type": "stream",
     "text": [
      "Intel MKL WARNING: Support of Intel(R) Streaming SIMD Extensions 4.2 (Intel(R) SSE4.2) enabled only processors has been deprecated. Intel oneAPI Math Kernel Library 2025.0 will require Intel(R) Advanced Vector Extensions (Intel(R) AVX) instructions.\n",
      "Intel MKL WARNING: Support of Intel(R) Streaming SIMD Extensions 4.2 (Intel(R) SSE4.2) enabled only processors has been deprecated. Intel oneAPI Math Kernel Library 2025.0 will require Intel(R) Advanced Vector Extensions (Intel(R) AVX) instructions.\n"
     ]
    }
   ],
   "source": [
    "import pandas as pd\n",
    "import os\n",
    "import openpyxl"
   ]
  },
  {
   "cell_type": "code",
   "execution_count": 13,
   "id": "e2772b7e",
   "metadata": {},
   "outputs": [
    {
     "name": "stdout",
     "output_type": "stream",
     "text": [
      "menwhitewithout63-.xlsx\n",
      "menwhitewithout18-40.xlsx\n",
      "menblackwithout51-.xlsx\n",
      "menwhitewithout41-62.xlsx\n",
      "menwhitewith76-.xlsx\n",
      "menblackwith51-.xlsx\n",
      "menwhitewith51-65.xlsx\n",
      "menblackwithout18-50.xlsx\n",
      "menwhitewith18-50.xlsx\n",
      "menblackwith18-50.xlsx\n",
      "menwhitewith66-75.xlsx\n"
     ]
    }
   ],
   "source": [
    "\n",
    "# Replace 'your_folder_path' with the path to the folder containing the Excel files\n",
    "folder_path = '/Users/ketan/Desktop/AllofUs/All_Of_Us_Men/old_excels'\n",
    "\n",
    "# Initialize an empty DataFrame to store the results\n",
    "df = pd.DataFrame(columns=['File', 'Sheet Count'])\n",
    "\n",
    "# Iterate through each file in the folder\n",
    "for file in os.listdir(folder_path):\n",
    "    print(file)\n",
    "    xls = pd.ExcelFile(f'{folder_path}/{file}', engine='openpyxl')\n",
    "\n",
    "    # New file\n",
    "    output_path = file.replace('.xlsx','_converted.xlsx')\n",
    "    writer = pd.ExcelWriter(output_path, engine='openpyxl')\n",
    "\n",
    "    # Process each sheet\n",
    "    for sheet_name in xls.sheet_names:\n",
    "        # Read the sheet into a DataFrame\n",
    "        df = pd.read_excel(xls, sheet_name=sheet_name)\n",
    "    \n",
    "        # Rename columns\n",
    "        df = df.rename(columns={\n",
    "            'locus': 'Chromosome_Position',\n",
    "            'alleles': 'Alleles',\n",
    "            'AC': 'Allele Count',\n",
    "            'AN': 'Allele Number',\n",
    "            'AF': 'Allele Frequency'\n",
    "        })\n",
    "    \n",
    "        # Split 'Chromosome_Position' into 'Chromosome' and 'Position'\n",
    "        df[['Chromosome', 'Position']] = df['Chromosome_Position'].str.split(':', expand=True)\n",
    "    \n",
    "        # Drop the original 'Chromosome_Position' column\n",
    "        df = df.drop('Chromosome_Position', axis=1)\n",
    "    \n",
    "        # Reorder columns\n",
    "        df = df[['Chromosome', 'Position', 'Alleles', 'Allele Count', 'Allele Number', 'Allele Frequency']]\n",
    "    \n",
    "        # Write to the new Excel file in the corresponding sheet\n",
    "        df.to_excel(writer, sheet_name=sheet_name, index=False)\n",
    "\n",
    "    # Save the new Excel file\n",
    "    writer.close()\n"
   ]
  }
 ],
 "metadata": {
  "kernelspec": {
   "display_name": "Python 3 (ipykernel)",
   "language": "python",
   "name": "python3"
  },
  "language_info": {
   "codemirror_mode": {
    "name": "ipython",
    "version": 3
   },
   "file_extension": ".py",
   "mimetype": "text/x-python",
   "name": "python",
   "nbconvert_exporter": "python",
   "pygments_lexer": "ipython3",
   "version": "3.11.8"
  }
 },
 "nbformat": 4,
 "nbformat_minor": 5
}
