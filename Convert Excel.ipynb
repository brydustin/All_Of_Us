{
 "cells": [
  {
   "cell_type": "markdown",
   "id": "394f56ab",
   "metadata": {},
   "source": [
    "#### Below is a notebook that takes excel files and converts them to the standard format"
   ]
  },
  {
   "cell_type": "code",
   "execution_count": 2,
   "id": "3ddc2d6d",
   "metadata": {},
   "outputs": [],
   "source": [
    "import pandas as pd"
   ]
  },
  {
   "cell_type": "code",
   "execution_count": 3,
   "id": "e2772b7e",
   "metadata": {},
   "outputs": [
    {
     "data": {
      "text/plain": [
       "'blackwithout51-_converted.xlsx'"
      ]
     },
     "execution_count": 3,
     "metadata": {},
     "output_type": "execute_result"
    }
   ],
   "source": [
    "# Load file\n",
    "file_path = 'blackwithout51-.xlsx'\n",
    "xls = pd.ExcelFile(file_path)\n",
    "\n",
    "# New file\n",
    "output_path = 'blackwithout51-_converted.xlsx'\n",
    "writer = pd.ExcelWriter(output_path, engine='xlsxwriter')\n",
    "\n",
    "# Process each sheet\n",
    "for sheet_name in xls.sheet_names:\n",
    "    # Read the sheet into a DataFrame\n",
    "    df = pd.read_excel(xls, sheet_name=sheet_name)\n",
    "    \n",
    "    # Rename columns\n",
    "    df = df.rename(columns={\n",
    "        'locus': 'Chromosome_Position',\n",
    "        'alleles': 'Alleles',\n",
    "        'AC': 'Allele Count',\n",
    "        'AN': 'Allele Number',\n",
    "        'AF': 'Allele Frequency'\n",
    "    })\n",
    "    \n",
    "    # Split 'Chromosome_Position' into 'Chromosome' and 'Position'\n",
    "    df[['Chromosome', 'Position']] = df['Chromosome_Position'].str.split(':', expand=True)\n",
    "    \n",
    "    # Drop the original 'Chromosome_Position' column\n",
    "    df = df.drop('Chromosome_Position', axis=1)\n",
    "    \n",
    "    # Reorder columns\n",
    "    df = df[['Chromosome', 'Position', 'Alleles', 'Allele Count', 'Allele Number', 'Allele Frequency']]\n",
    "    \n",
    "    # Write to the new Excel file in the corresponding sheet\n",
    "    df.to_excel(writer, sheet_name=sheet_name, index=False)\n",
    "\n",
    "# Save the new Excel file\n",
    "writer.close()\n",
    "\n",
    "output_path"
   ]
  }
 ],
 "metadata": {
  "kernelspec": {
   "display_name": "Python 3 (ipykernel)",
   "language": "python",
   "name": "python3"
  },
  "language_info": {
   "codemirror_mode": {
    "name": "ipython",
    "version": 3
   },
   "file_extension": ".py",
   "mimetype": "text/x-python",
   "name": "python",
   "nbconvert_exporter": "python",
   "pygments_lexer": "ipython3",
   "version": "3.9.13"
  }
 },
 "nbformat": 4,
 "nbformat_minor": 5
}
